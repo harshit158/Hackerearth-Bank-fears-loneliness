{
 "cells": [
  {
   "cell_type": "code",
   "execution_count": 449,
   "metadata": {
    "collapsed": true
   },
   "outputs": [],
   "source": [
    "import pandas as pd\n",
    "import numpy as np\n",
    "import seaborn as sns\n",
    "%matplotlib inline\n",
    "from sklearn import preprocessing"
   ]
  },
  {
   "cell_type": "code",
   "execution_count": 450,
   "metadata": {
    "collapsed": false
   },
   "outputs": [],
   "source": [
    "df = pd.read_csv('train_indessa.csv')"
   ]
  },
  {
   "cell_type": "code",
   "execution_count": 451,
   "metadata": {
    "collapsed": false
   },
   "outputs": [],
   "source": [
    "test = pd.read_csv('test_indessa.csv') "
   ]
  },
  {
   "cell_type": "code",
   "execution_count": 452,
   "metadata": {
    "collapsed": false
   },
   "outputs": [
    {
     "data": {
      "text/plain": [
       "Index([u'member_id', u'loan_amnt', u'funded_amnt', u'funded_amnt_inv', u'term',\n",
       "       u'batch_enrolled', u'int_rate', u'grade', u'sub_grade', u'emp_title',\n",
       "       u'emp_length', u'home_ownership', u'annual_inc', u'verification_status',\n",
       "       u'pymnt_plan', u'desc', u'purpose', u'title', u'zip_code',\n",
       "       u'addr_state', u'dti', u'delinq_2yrs', u'inq_last_6mths',\n",
       "       u'mths_since_last_delinq', u'mths_since_last_record', u'open_acc',\n",
       "       u'pub_rec', u'revol_bal', u'revol_util', u'total_acc',\n",
       "       u'initial_list_status', u'total_rec_int', u'total_rec_late_fee',\n",
       "       u'recoveries', u'collection_recovery_fee',\n",
       "       u'collections_12_mths_ex_med', u'mths_since_last_major_derog',\n",
       "       u'application_type', u'verification_status_joint', u'last_week_pay',\n",
       "       u'acc_now_delinq', u'tot_coll_amt', u'tot_cur_bal', u'total_rev_hi_lim',\n",
       "       u'loan_status'],\n",
       "      dtype='object')"
      ]
     },
     "execution_count": 452,
     "metadata": {},
     "output_type": "execute_result"
    }
   ],
   "source": [
    "df.columns"
   ]
  },
  {
   "cell_type": "code",
   "execution_count": 453,
   "metadata": {
    "collapsed": false
   },
   "outputs": [
    {
     "data": {
      "text/plain": [
       "(532428, 45)"
      ]
     },
     "execution_count": 453,
     "metadata": {},
     "output_type": "execute_result"
    }
   ],
   "source": [
    "df.shape"
   ]
  },
  {
   "cell_type": "code",
   "execution_count": 454,
   "metadata": {
    "collapsed": false
   },
   "outputs": [
    {
     "data": {
      "text/plain": [
       "(354951, 44)"
      ]
     },
     "execution_count": 454,
     "metadata": {},
     "output_type": "execute_result"
    }
   ],
   "source": [
    "test.shape"
   ]
  },
  {
   "cell_type": "code",
   "execution_count": 455,
   "metadata": {
    "collapsed": false
   },
   "outputs": [
    {
     "data": {
      "text/html": [
       "<div>\n",
       "<table border=\"1\" class=\"dataframe\">\n",
       "  <thead>\n",
       "    <tr style=\"text-align: right;\">\n",
       "      <th></th>\n",
       "      <th>member_id</th>\n",
       "      <th>loan_amnt</th>\n",
       "      <th>funded_amnt</th>\n",
       "      <th>funded_amnt_inv</th>\n",
       "      <th>term</th>\n",
       "      <th>batch_enrolled</th>\n",
       "      <th>int_rate</th>\n",
       "      <th>grade</th>\n",
       "      <th>sub_grade</th>\n",
       "      <th>emp_title</th>\n",
       "      <th>...</th>\n",
       "      <th>collections_12_mths_ex_med</th>\n",
       "      <th>mths_since_last_major_derog</th>\n",
       "      <th>application_type</th>\n",
       "      <th>verification_status_joint</th>\n",
       "      <th>last_week_pay</th>\n",
       "      <th>acc_now_delinq</th>\n",
       "      <th>tot_coll_amt</th>\n",
       "      <th>tot_cur_bal</th>\n",
       "      <th>total_rev_hi_lim</th>\n",
       "      <th>loan_status</th>\n",
       "    </tr>\n",
       "  </thead>\n",
       "  <tbody>\n",
       "    <tr>\n",
       "      <th>0</th>\n",
       "      <td>58189336</td>\n",
       "      <td>14350</td>\n",
       "      <td>14350</td>\n",
       "      <td>14350.0</td>\n",
       "      <td>36 months</td>\n",
       "      <td></td>\n",
       "      <td>19.19</td>\n",
       "      <td>E</td>\n",
       "      <td>E3</td>\n",
       "      <td>clerk</td>\n",
       "      <td>...</td>\n",
       "      <td>0.0</td>\n",
       "      <td>74.0</td>\n",
       "      <td>INDIVIDUAL</td>\n",
       "      <td>NaN</td>\n",
       "      <td>26th week</td>\n",
       "      <td>0.0</td>\n",
       "      <td>0.0</td>\n",
       "      <td>28699.0</td>\n",
       "      <td>30800.0</td>\n",
       "      <td>0</td>\n",
       "    </tr>\n",
       "    <tr>\n",
       "      <th>1</th>\n",
       "      <td>70011223</td>\n",
       "      <td>4800</td>\n",
       "      <td>4800</td>\n",
       "      <td>4800.0</td>\n",
       "      <td>36 months</td>\n",
       "      <td>BAT1586599</td>\n",
       "      <td>10.99</td>\n",
       "      <td>B</td>\n",
       "      <td>B4</td>\n",
       "      <td>Human Resources Specialist</td>\n",
       "      <td>...</td>\n",
       "      <td>0.0</td>\n",
       "      <td>NaN</td>\n",
       "      <td>INDIVIDUAL</td>\n",
       "      <td>NaN</td>\n",
       "      <td>9th week</td>\n",
       "      <td>0.0</td>\n",
       "      <td>0.0</td>\n",
       "      <td>9974.0</td>\n",
       "      <td>32900.0</td>\n",
       "      <td>0</td>\n",
       "    </tr>\n",
       "  </tbody>\n",
       "</table>\n",
       "<p>2 rows × 45 columns</p>\n",
       "</div>"
      ],
      "text/plain": [
       "   member_id  loan_amnt  funded_amnt  funded_amnt_inv       term  \\\n",
       "0   58189336      14350        14350          14350.0  36 months   \n",
       "1   70011223       4800         4800           4800.0  36 months   \n",
       "\n",
       "  batch_enrolled  int_rate grade sub_grade                   emp_title  \\\n",
       "0                    19.19     E        E3                       clerk   \n",
       "1     BAT1586599     10.99     B        B4  Human Resources Specialist   \n",
       "\n",
       "      ...     collections_12_mths_ex_med mths_since_last_major_derog  \\\n",
       "0     ...                            0.0                        74.0   \n",
       "1     ...                            0.0                         NaN   \n",
       "\n",
       "   application_type verification_status_joint last_week_pay acc_now_delinq  \\\n",
       "0        INDIVIDUAL                       NaN     26th week            0.0   \n",
       "1        INDIVIDUAL                       NaN      9th week            0.0   \n",
       "\n",
       "  tot_coll_amt tot_cur_bal total_rev_hi_lim loan_status  \n",
       "0          0.0     28699.0          30800.0           0  \n",
       "1          0.0      9974.0          32900.0           0  \n",
       "\n",
       "[2 rows x 45 columns]"
      ]
     },
     "execution_count": 455,
     "metadata": {},
     "output_type": "execute_result"
    }
   ],
   "source": [
    "df.head(2)"
   ]
  },
  {
   "cell_type": "code",
   "execution_count": 456,
   "metadata": {
    "collapsed": false
   },
   "outputs": [
    {
     "data": {
      "text/plain": [
       "member_id                           0\n",
       "loan_amnt                           0\n",
       "funded_amnt                         0\n",
       "funded_amnt_inv                     0\n",
       "term                                0\n",
       "batch_enrolled                  85149\n",
       "int_rate                            0\n",
       "grade                               0\n",
       "sub_grade                           0\n",
       "emp_title                       30830\n",
       "emp_length                          0\n",
       "home_ownership                      0\n",
       "annual_inc                          3\n",
       "verification_status                 0\n",
       "pymnt_plan                          0\n",
       "desc                           456829\n",
       "purpose                             0\n",
       "title                              90\n",
       "zip_code                            0\n",
       "addr_state                          0\n",
       "dti                                 0\n",
       "delinq_2yrs                        16\n",
       "inq_last_6mths                     16\n",
       "mths_since_last_delinq         272554\n",
       "mths_since_last_record         450305\n",
       "open_acc                           16\n",
       "pub_rec                            16\n",
       "revol_bal                           0\n",
       "revol_util                        287\n",
       "total_acc                          16\n",
       "initial_list_status                 0\n",
       "total_rec_int                       0\n",
       "total_rec_late_fee                  0\n",
       "recoveries                          0\n",
       "collection_recovery_fee             0\n",
       "collections_12_mths_ex_med         95\n",
       "mths_since_last_major_derog    399448\n",
       "application_type                    0\n",
       "verification_status_joint      532123\n",
       "last_week_pay                       0\n",
       "acc_now_delinq                     16\n",
       "tot_coll_amt                    42004\n",
       "tot_cur_bal                     42004\n",
       "total_rev_hi_lim                42004\n",
       "loan_status                         0\n",
       "dtype: int64"
      ]
     },
     "execution_count": 456,
     "metadata": {},
     "output_type": "execute_result"
    }
   ],
   "source": [
    "df.isnull().sum()"
   ]
  },
  {
   "cell_type": "code",
   "execution_count": 457,
   "metadata": {
    "collapsed": false
   },
   "outputs": [
    {
     "data": {
      "text/plain": [
       "member_id                           0\n",
       "loan_amnt                           0\n",
       "funded_amnt                         0\n",
       "funded_amnt_inv                     0\n",
       "term                                0\n",
       "batch_enrolled                  45599\n",
       "int_rate                            0\n",
       "grade                               0\n",
       "sub_grade                           0\n",
       "emp_title                       20627\n",
       "emp_length                          0\n",
       "home_ownership                      0\n",
       "annual_inc                          1\n",
       "verification_status                 0\n",
       "pymnt_plan                          0\n",
       "desc                           304769\n",
       "purpose                             0\n",
       "title                              61\n",
       "zip_code                            0\n",
       "addr_state                          0\n",
       "dti                                 0\n",
       "delinq_2yrs                        13\n",
       "inq_last_6mths                     13\n",
       "mths_since_last_delinq         181758\n",
       "mths_since_last_record         300021\n",
       "open_acc                           13\n",
       "pub_rec                            13\n",
       "revol_bal                           0\n",
       "revol_util                        215\n",
       "total_acc                          13\n",
       "initial_list_status                 0\n",
       "total_rec_int                       0\n",
       "total_rec_late_fee                  0\n",
       "recoveries                          0\n",
       "collection_recovery_fee             0\n",
       "collections_12_mths_ex_med         50\n",
       "mths_since_last_major_derog    266228\n",
       "application_type                    0\n",
       "verification_status_joint      354745\n",
       "last_week_pay                       0\n",
       "acc_now_delinq                     13\n",
       "tot_coll_amt                    28272\n",
       "tot_cur_bal                     28272\n",
       "total_rev_hi_lim                28272\n",
       "dtype: int64"
      ]
     },
     "execution_count": 457,
     "metadata": {},
     "output_type": "execute_result"
    }
   ],
   "source": [
    "test.isnull().sum()"
   ]
  },
  {
   "cell_type": "code",
   "execution_count": 458,
   "metadata": {
    "collapsed": false
   },
   "outputs": [
    {
     "name": "stdout",
     "output_type": "stream",
     "text": [
      "['batch_enrolled', 'emp_title', 'desc', 'mths_since_last_delinq', 'mths_since_last_record', 'mths_since_last_major_derog', 'verification_status_joint', 'tot_coll_amt', 'tot_cur_bal', 'total_rev_hi_lim']\n"
     ]
    }
   ],
   "source": [
    "#Droping columns based on number of empty values\n",
    "#for TRAINING data\n",
    "colsDropped = []\n",
    "for col_names in df.columns:\n",
    "    if(df[col_names].isnull().sum() > 1000):\n",
    "        colsDropped.append(col_names)\n",
    "        df = df.drop(col_names, axis = 1)\n",
    "print colsDropped"
   ]
  },
  {
   "cell_type": "code",
   "execution_count": 459,
   "metadata": {
    "collapsed": false
   },
   "outputs": [],
   "source": [
    "#Dropping columns for TEST data\n",
    "for col_names in colsDropped:\n",
    "    test = test.drop(col_names, axis = 1)"
   ]
  },
  {
   "cell_type": "code",
   "execution_count": 460,
   "metadata": {
    "collapsed": false
   },
   "outputs": [
    {
     "data": {
      "text/plain": [
       "member_id                       int64\n",
       "loan_amnt                       int64\n",
       "funded_amnt                     int64\n",
       "funded_amnt_inv               float64\n",
       "term                           object\n",
       "int_rate                      float64\n",
       "grade                          object\n",
       "sub_grade                      object\n",
       "emp_length                     object\n",
       "home_ownership                 object\n",
       "annual_inc                    float64\n",
       "verification_status            object\n",
       "pymnt_plan                     object\n",
       "purpose                        object\n",
       "title                          object\n",
       "zip_code                       object\n",
       "addr_state                     object\n",
       "dti                           float64\n",
       "delinq_2yrs                   float64\n",
       "inq_last_6mths                float64\n",
       "open_acc                      float64\n",
       "pub_rec                       float64\n",
       "revol_bal                     float64\n",
       "revol_util                    float64\n",
       "total_acc                     float64\n",
       "initial_list_status            object\n",
       "total_rec_int                 float64\n",
       "total_rec_late_fee            float64\n",
       "recoveries                    float64\n",
       "collection_recovery_fee       float64\n",
       "collections_12_mths_ex_med    float64\n",
       "application_type               object\n",
       "last_week_pay                  object\n",
       "acc_now_delinq                float64\n",
       "loan_status                     int64\n",
       "dtype: object"
      ]
     },
     "execution_count": 460,
     "metadata": {},
     "output_type": "execute_result"
    }
   ],
   "source": [
    "df.dtypes"
   ]
  },
  {
   "cell_type": "code",
   "execution_count": 461,
   "metadata": {
    "collapsed": false
   },
   "outputs": [
    {
     "data": {
      "text/plain": [
       "member_id                      0\n",
       "loan_amnt                      0\n",
       "funded_amnt                    0\n",
       "funded_amnt_inv                0\n",
       "term                           0\n",
       "int_rate                       0\n",
       "grade                          0\n",
       "sub_grade                      0\n",
       "emp_length                     0\n",
       "home_ownership                 0\n",
       "annual_inc                     0\n",
       "verification_status            0\n",
       "pymnt_plan                     0\n",
       "purpose                        0\n",
       "title                         90\n",
       "zip_code                       0\n",
       "addr_state                     0\n",
       "dti                            0\n",
       "delinq_2yrs                    0\n",
       "inq_last_6mths                 0\n",
       "open_acc                       0\n",
       "pub_rec                        0\n",
       "revol_bal                      0\n",
       "revol_util                     0\n",
       "total_acc                      0\n",
       "initial_list_status            0\n",
       "total_rec_int                  0\n",
       "total_rec_late_fee             0\n",
       "recoveries                     0\n",
       "collection_recovery_fee        0\n",
       "collections_12_mths_ex_med     0\n",
       "application_type               0\n",
       "last_week_pay                  0\n",
       "acc_now_delinq                 0\n",
       "loan_status                    0\n",
       "dtype: int64"
      ]
     },
     "execution_count": 461,
     "metadata": {},
     "output_type": "execute_result"
    }
   ],
   "source": [
    "#Filling missing values with MEAN\n",
    "colsFillMean = ['annual_inc','revol_util']\n",
    "for cols in colsFillMean:\n",
    "    df[cols].fillna(df[cols].mean(), inplace=True)\n",
    "    test[cols].fillna(df[cols].mean(), inplace=True)\n",
    "\n",
    "#Filling missing values with MODE\n",
    "colsFillMode = ['delinq_2yrs','inq_last_6mths','open_acc','pub_rec','total_acc','collections_12_mths_ex_med','acc_now_delinq']\n",
    "for cols in colsFillMode:\n",
    "    df[cols].fillna(df[cols].mode()[0], inplace=True)\n",
    "    test[cols].fillna(df[cols].mode()[0], inplace=True)\n",
    "    \n",
    "df.isnull().sum()"
   ]
  },
  {
   "cell_type": "code",
   "execution_count": 462,
   "metadata": {
    "collapsed": true
   },
   "outputs": [],
   "source": [
    "#Dropping specific columns\n",
    "colsToDrop = ['member_id','zip_code','pymnt_plan','application_type','title']\n",
    "for cols in colsToDrop:\n",
    "    df = df.drop(cols, axis=1)\n",
    "    test = test.drop(cols, axis=1)"
   ]
  },
  {
   "cell_type": "code",
   "execution_count": 463,
   "metadata": {
    "collapsed": false
   },
   "outputs": [
    {
     "data": {
      "text/html": [
       "<div>\n",
       "<table border=\"1\" class=\"dataframe\">\n",
       "  <thead>\n",
       "    <tr style=\"text-align: right;\">\n",
       "      <th></th>\n",
       "      <th>loan_amnt</th>\n",
       "      <th>funded_amnt</th>\n",
       "      <th>funded_amnt_inv</th>\n",
       "      <th>term</th>\n",
       "      <th>int_rate</th>\n",
       "      <th>grade</th>\n",
       "      <th>sub_grade</th>\n",
       "      <th>emp_length</th>\n",
       "      <th>home_ownership</th>\n",
       "      <th>annual_inc</th>\n",
       "      <th>...</th>\n",
       "      <th>total_acc</th>\n",
       "      <th>initial_list_status</th>\n",
       "      <th>total_rec_int</th>\n",
       "      <th>total_rec_late_fee</th>\n",
       "      <th>recoveries</th>\n",
       "      <th>collection_recovery_fee</th>\n",
       "      <th>collections_12_mths_ex_med</th>\n",
       "      <th>last_week_pay</th>\n",
       "      <th>acc_now_delinq</th>\n",
       "      <th>loan_status</th>\n",
       "    </tr>\n",
       "  </thead>\n",
       "  <tbody>\n",
       "    <tr>\n",
       "      <th>0</th>\n",
       "      <td>14350</td>\n",
       "      <td>14350</td>\n",
       "      <td>14350.0</td>\n",
       "      <td>36 months</td>\n",
       "      <td>19.19</td>\n",
       "      <td>E</td>\n",
       "      <td>E3</td>\n",
       "      <td>9 years</td>\n",
       "      <td>OWN</td>\n",
       "      <td>28700.0</td>\n",
       "      <td>...</td>\n",
       "      <td>28.0</td>\n",
       "      <td>f</td>\n",
       "      <td>1173.84</td>\n",
       "      <td>0.0</td>\n",
       "      <td>0.0</td>\n",
       "      <td>0.0</td>\n",
       "      <td>0.0</td>\n",
       "      <td>26th week</td>\n",
       "      <td>0.0</td>\n",
       "      <td>0</td>\n",
       "    </tr>\n",
       "    <tr>\n",
       "      <th>1</th>\n",
       "      <td>4800</td>\n",
       "      <td>4800</td>\n",
       "      <td>4800.0</td>\n",
       "      <td>36 months</td>\n",
       "      <td>10.99</td>\n",
       "      <td>B</td>\n",
       "      <td>B4</td>\n",
       "      <td>&lt; 1 year</td>\n",
       "      <td>MORTGAGE</td>\n",
       "      <td>65000.0</td>\n",
       "      <td>...</td>\n",
       "      <td>13.0</td>\n",
       "      <td>w</td>\n",
       "      <td>83.95</td>\n",
       "      <td>0.0</td>\n",
       "      <td>0.0</td>\n",
       "      <td>0.0</td>\n",
       "      <td>0.0</td>\n",
       "      <td>9th week</td>\n",
       "      <td>0.0</td>\n",
       "      <td>0</td>\n",
       "    </tr>\n",
       "  </tbody>\n",
       "</table>\n",
       "<p>2 rows × 30 columns</p>\n",
       "</div>"
      ],
      "text/plain": [
       "   loan_amnt  funded_amnt  funded_amnt_inv       term  int_rate grade  \\\n",
       "0      14350        14350          14350.0  36 months     19.19     E   \n",
       "1       4800         4800           4800.0  36 months     10.99     B   \n",
       "\n",
       "  sub_grade emp_length home_ownership  annual_inc     ...      total_acc  \\\n",
       "0        E3    9 years            OWN     28700.0     ...           28.0   \n",
       "1        B4   < 1 year       MORTGAGE     65000.0     ...           13.0   \n",
       "\n",
       "  initial_list_status total_rec_int  total_rec_late_fee  recoveries  \\\n",
       "0                   f       1173.84                 0.0         0.0   \n",
       "1                   w         83.95                 0.0         0.0   \n",
       "\n",
       "   collection_recovery_fee  collections_12_mths_ex_med  last_week_pay  \\\n",
       "0                      0.0                         0.0      26th week   \n",
       "1                      0.0                         0.0       9th week   \n",
       "\n",
       "   acc_now_delinq  loan_status  \n",
       "0             0.0            0  \n",
       "1             0.0            0  \n",
       "\n",
       "[2 rows x 30 columns]"
      ]
     },
     "execution_count": 463,
     "metadata": {},
     "output_type": "execute_result"
    }
   ],
   "source": [
    "df.head(2)"
   ]
  },
  {
   "cell_type": "code",
   "execution_count": 464,
   "metadata": {
    "collapsed": false
   },
   "outputs": [],
   "source": [
    "# df.loan_amnt.hist()"
   ]
  },
  {
   "cell_type": "code",
   "execution_count": 465,
   "metadata": {
    "collapsed": false
   },
   "outputs": [],
   "source": [
    "# df.funded_amnt.hist()"
   ]
  },
  {
   "cell_type": "code",
   "execution_count": 466,
   "metadata": {
    "collapsed": false
   },
   "outputs": [],
   "source": [
    "# sns.countplot(x=\"term\", data=df)"
   ]
  },
  {
   "cell_type": "code",
   "execution_count": 467,
   "metadata": {
    "collapsed": false
   },
   "outputs": [
    {
     "data": {
      "text/plain": [
       "36 months    372793\n",
       "60 months    159635\n",
       "Name: term, dtype: int64"
      ]
     },
     "execution_count": 467,
     "metadata": {},
     "output_type": "execute_result"
    }
   ],
   "source": [
    "df.term.value_counts()"
   ]
  },
  {
   "cell_type": "code",
   "execution_count": 468,
   "metadata": {
    "collapsed": false
   },
   "outputs": [],
   "source": [
    "def removeMonths(x):\n",
    "    return int(x.split(\" \")[0])\n",
    "df.term = df.term.apply(removeMonths)\n",
    "test.term = test.term.apply(removeMonths)"
   ]
  },
  {
   "cell_type": "code",
   "execution_count": 469,
   "metadata": {
    "collapsed": false
   },
   "outputs": [
    {
     "data": {
      "text/html": [
       "<div>\n",
       "<table border=\"1\" class=\"dataframe\">\n",
       "  <thead>\n",
       "    <tr style=\"text-align: right;\">\n",
       "      <th></th>\n",
       "      <th>loan_amnt</th>\n",
       "      <th>funded_amnt</th>\n",
       "      <th>funded_amnt_inv</th>\n",
       "      <th>term</th>\n",
       "      <th>int_rate</th>\n",
       "      <th>grade</th>\n",
       "      <th>sub_grade</th>\n",
       "      <th>emp_length</th>\n",
       "      <th>home_ownership</th>\n",
       "      <th>annual_inc</th>\n",
       "      <th>...</th>\n",
       "      <th>total_acc</th>\n",
       "      <th>initial_list_status</th>\n",
       "      <th>total_rec_int</th>\n",
       "      <th>total_rec_late_fee</th>\n",
       "      <th>recoveries</th>\n",
       "      <th>collection_recovery_fee</th>\n",
       "      <th>collections_12_mths_ex_med</th>\n",
       "      <th>last_week_pay</th>\n",
       "      <th>acc_now_delinq</th>\n",
       "      <th>loan_status</th>\n",
       "    </tr>\n",
       "  </thead>\n",
       "  <tbody>\n",
       "    <tr>\n",
       "      <th>0</th>\n",
       "      <td>14350</td>\n",
       "      <td>14350</td>\n",
       "      <td>14350.0</td>\n",
       "      <td>36</td>\n",
       "      <td>19.19</td>\n",
       "      <td>E</td>\n",
       "      <td>E3</td>\n",
       "      <td>9 years</td>\n",
       "      <td>OWN</td>\n",
       "      <td>28700.0</td>\n",
       "      <td>...</td>\n",
       "      <td>28.0</td>\n",
       "      <td>f</td>\n",
       "      <td>1173.84</td>\n",
       "      <td>0.0</td>\n",
       "      <td>0.0</td>\n",
       "      <td>0.0</td>\n",
       "      <td>0.0</td>\n",
       "      <td>26th week</td>\n",
       "      <td>0.0</td>\n",
       "      <td>0</td>\n",
       "    </tr>\n",
       "    <tr>\n",
       "      <th>1</th>\n",
       "      <td>4800</td>\n",
       "      <td>4800</td>\n",
       "      <td>4800.0</td>\n",
       "      <td>36</td>\n",
       "      <td>10.99</td>\n",
       "      <td>B</td>\n",
       "      <td>B4</td>\n",
       "      <td>&lt; 1 year</td>\n",
       "      <td>MORTGAGE</td>\n",
       "      <td>65000.0</td>\n",
       "      <td>...</td>\n",
       "      <td>13.0</td>\n",
       "      <td>w</td>\n",
       "      <td>83.95</td>\n",
       "      <td>0.0</td>\n",
       "      <td>0.0</td>\n",
       "      <td>0.0</td>\n",
       "      <td>0.0</td>\n",
       "      <td>9th week</td>\n",
       "      <td>0.0</td>\n",
       "      <td>0</td>\n",
       "    </tr>\n",
       "  </tbody>\n",
       "</table>\n",
       "<p>2 rows × 30 columns</p>\n",
       "</div>"
      ],
      "text/plain": [
       "   loan_amnt  funded_amnt  funded_amnt_inv  term  int_rate grade sub_grade  \\\n",
       "0      14350        14350          14350.0    36     19.19     E        E3   \n",
       "1       4800         4800           4800.0    36     10.99     B        B4   \n",
       "\n",
       "  emp_length home_ownership  annual_inc     ...      total_acc  \\\n",
       "0    9 years            OWN     28700.0     ...           28.0   \n",
       "1   < 1 year       MORTGAGE     65000.0     ...           13.0   \n",
       "\n",
       "  initial_list_status total_rec_int  total_rec_late_fee  recoveries  \\\n",
       "0                   f       1173.84                 0.0         0.0   \n",
       "1                   w         83.95                 0.0         0.0   \n",
       "\n",
       "   collection_recovery_fee  collections_12_mths_ex_med  last_week_pay  \\\n",
       "0                      0.0                         0.0      26th week   \n",
       "1                      0.0                         0.0       9th week   \n",
       "\n",
       "   acc_now_delinq  loan_status  \n",
       "0             0.0            0  \n",
       "1             0.0            0  \n",
       "\n",
       "[2 rows x 30 columns]"
      ]
     },
     "execution_count": 469,
     "metadata": {},
     "output_type": "execute_result"
    }
   ],
   "source": [
    "df.head(2)"
   ]
  },
  {
   "cell_type": "code",
   "execution_count": 470,
   "metadata": {
    "collapsed": false
   },
   "outputs": [
    {
     "data": {
      "text/plain": [
       "10+ years    175105\n",
       "2 years       47276\n",
       "< 1 year      42253\n",
       "3 years       42175\n",
       "1 year        34202\n",
       "5 years       33393\n",
       "4 years       31581\n",
       "n/a           26891\n",
       "7 years       26680\n",
       "8 years       26443\n",
       "6 years       25741\n",
       "9 years       20688\n",
       "Name: emp_length, dtype: int64"
      ]
     },
     "execution_count": 470,
     "metadata": {},
     "output_type": "execute_result"
    }
   ],
   "source": [
    "df.emp_length.value_counts()"
   ]
  },
  {
   "cell_type": "code",
   "execution_count": 471,
   "metadata": {
    "collapsed": false
   },
   "outputs": [
    {
     "data": {
      "text/plain": [
       "10.0    175105\n",
       "2.0      47276\n",
       "0.5      42253\n",
       "3.0      42175\n",
       "1.0      34202\n",
       "5.0      33393\n",
       "4.0      31581\n",
       "0.0      26891\n",
       "7.0      26680\n",
       "8.0      26443\n",
       "6.0      25741\n",
       "9.0      20688\n",
       "Name: emp_length, dtype: int64"
      ]
     },
     "execution_count": 471,
     "metadata": {},
     "output_type": "execute_result"
    }
   ],
   "source": [
    "df.emp_length.replace('n/a','0 years',inplace=True )\n",
    "df.emp_length.replace('< 1 year','0.5 years',inplace=True )\n",
    "df.emp_length.replace('10+ years','10 years',inplace=True )\n",
    "\n",
    "def removeYears(x):\n",
    "    return float(x.split(\" \")[0])\n",
    "df.emp_length = df.emp_length.apply(removeYears)\n",
    "df.emp_length.value_counts()\n"
   ]
  },
  {
   "cell_type": "code",
   "execution_count": 472,
   "metadata": {
    "collapsed": false
   },
   "outputs": [],
   "source": [
    "test.emp_length.replace('n/a','0 years',inplace=True )\n",
    "test.emp_length.replace('< 1 year','0.5 years',inplace=True )\n",
    "test.emp_length.replace('10+ years','10 years',inplace=True )\n",
    "\n",
    "# test.emp_length\n",
    "test.emp_length = test.emp_length.apply(removeYears)"
   ]
  },
  {
   "cell_type": "code",
   "execution_count": 473,
   "metadata": {
    "collapsed": false
   },
   "outputs": [
    {
     "name": "stdout",
     "output_type": "stream",
     "text": [
      "B    152713\n",
      "C    147499\n",
      "A     89107\n",
      "D     83567\n",
      "E     42495\n",
      "F     13826\n",
      "G      3221\n",
      "Name: grade, dtype: int64 \n",
      "\n",
      "B3    33844\n",
      "B4    33198\n",
      "C1    31975\n",
      "C2    31356\n",
      "C3    30080\n",
      "B2    29390\n",
      "B5    29313\n",
      "C4    29103\n",
      "A5    27016\n",
      "B1    26968\n",
      "C5    24985\n",
      "D1    21712\n",
      "A4    20823\n",
      "D2    17991\n",
      "D3    15771\n",
      "D4    15226\n",
      "A3    14082\n",
      "A1    13653\n",
      "A2    13533\n",
      "D5    12867\n",
      "E1    10928\n",
      "E2    10255\n",
      "E3     8488\n",
      "E4     7051\n",
      "E5     5773\n",
      "F1     4350\n",
      "F2     3196\n",
      "F3     2708\n",
      "F4     2056\n",
      "F5     1516\n",
      "G1     1112\n",
      "G2      824\n",
      "G3      559\n",
      "G4      391\n",
      "G5      335\n",
      "Name: sub_grade, dtype: int64 \n",
      "\n",
      "MORTGAGE    265940\n",
      "RENT        213668\n",
      "OWN          52664\n",
      "OTHER          117\n",
      "NONE            36\n",
      "ANY              3\n",
      "Name: home_ownership, dtype: int64 \n",
      "\n",
      "Source Verified    197750\n",
      "Verified           174702\n",
      "Not Verified       159976\n",
      "Name: verification_status, dtype: int64 \n",
      "\n",
      "debt_consolidation    314989\n",
      "credit_card           123670\n",
      "home_improvement       31087\n",
      "other                  25652\n",
      "major_purchase         10284\n",
      "small_business          6146\n",
      "car                     5266\n",
      "medical                 5117\n",
      "moving                  3243\n",
      "vacation                2812\n",
      "house                   2170\n",
      "wedding                 1401\n",
      "renewable_energy         331\n",
      "educational              260\n",
      "Name: purpose, dtype: int64 \n",
      "\n",
      "CA    77911\n",
      "NY    44406\n",
      "TX    42527\n",
      "FL    36575\n",
      "IL    21205\n",
      "NJ    20103\n",
      "PA    18882\n",
      "OH    17778\n",
      "GA    17292\n",
      "VA    15826\n",
      "NC    14812\n",
      "MI    13869\n",
      "MD    12667\n",
      "MA    12385\n",
      "AZ    12320\n",
      "WA    11664\n",
      "CO    11233\n",
      "MN     9577\n",
      "MO     8538\n",
      "IN     8197\n",
      "CT     8075\n",
      "TN     7817\n",
      "NV     7408\n",
      "WI     6880\n",
      "AL     6699\n",
      "OR     6549\n",
      "SC     6331\n",
      "LA     6304\n",
      "KY     5140\n",
      "KS     4818\n",
      "OK     4797\n",
      "AR     3988\n",
      "UT     3829\n",
      "NM     2958\n",
      "HI     2705\n",
      "WV     2615\n",
      "NH     2568\n",
      "RI     2322\n",
      "MS     2296\n",
      "MT     1545\n",
      "DE     1512\n",
      "DC     1477\n",
      "AK     1346\n",
      "WY     1198\n",
      "SD     1091\n",
      "VT     1062\n",
      "NE      709\n",
      "ME      324\n",
      "ND      284\n",
      "IA        7\n",
      "ID        7\n",
      "Name: addr_state, dtype: int64 \n",
      "\n",
      "f    274018\n",
      "w    258410\n",
      "Name: initial_list_status, dtype: int64 \n",
      "\n",
      "13th week     30333\n",
      "9th week      28626\n",
      "26th week     27475\n",
      "22th week     26000\n",
      "4th week      25704\n",
      "35th week     24037\n",
      "39th week     23796\n",
      "17th week     22036\n",
      "31th week     21437\n",
      "52th week     19391\n",
      "65th week     19231\n",
      "48th week     19104\n",
      "61th week     18082\n",
      "78th week     14130\n",
      "74th week     13407\n",
      "87th week     11333\n",
      "91th week     10759\n",
      "NAth week     10614\n",
      "44th week     10433\n",
      "83th week      9817\n",
      "70th week      9605\n",
      "156th week     8504\n",
      "100th week     8309\n",
      "43th week      8159\n",
      "109th week     7838\n",
      "57th week      7828\n",
      "104th week     7703\n",
      "96th week      6810\n",
      "113th week     6533\n",
      "117th week     6463\n",
      "              ...  \n",
      "222th week      183\n",
      "200th week      180\n",
      "204th week      171\n",
      "226th week      167\n",
      "231th week      148\n",
      "235th week      137\n",
      "244th week      130\n",
      "239th week      129\n",
      "248th week      124\n",
      "252th week      117\n",
      "169th week      104\n",
      "256th week       82\n",
      "79th week        81\n",
      "182th week       34\n",
      "243th week       28\n",
      "153th week       25\n",
      "192th week       18\n",
      "230th week       17\n",
      "257th week       11\n",
      "218th week       11\n",
      "270th week       10\n",
      "221th week        3\n",
      "205th week        2\n",
      "291th week        2\n",
      "269th week        1\n",
      "278th week        1\n",
      "274th week        1\n",
      "300th week        1\n",
      "283th week        1\n",
      "304th week        1\n",
      "Name: last_week_pay, dtype: int64 \n",
      "\n"
     ]
    }
   ],
   "source": [
    "for items in df.select_dtypes(include = ['object']):\n",
    "    print df[items].value_counts(),'\\n'"
   ]
  },
  {
   "cell_type": "code",
   "execution_count": 474,
   "metadata": {
    "collapsed": false
   },
   "outputs": [],
   "source": [
    "def removeWeeks(x):\n",
    "    x=x.replace(\"th\", \"\")\n",
    "    return int(x.split(\" \")[0])\n",
    "df.last_week_pay.replace(\"NAth week\", \"13th week\", inplace=True)\n",
    "df.last_week_pay = df.last_week_pay.apply(removeWeeks)\n",
    "\n",
    "test.last_week_pay.replace(\"NAth week\", \"13th week\", inplace=True)\n",
    "test.last_week_pay = test.last_week_pay.apply(removeWeeks)"
   ]
  },
  {
   "cell_type": "code",
   "execution_count": 475,
   "metadata": {
    "collapsed": false
   },
   "outputs": [
    {
     "data": {
      "text/html": [
       "<div>\n",
       "<table border=\"1\" class=\"dataframe\">\n",
       "  <thead>\n",
       "    <tr style=\"text-align: right;\">\n",
       "      <th></th>\n",
       "      <th>loan_amnt</th>\n",
       "      <th>funded_amnt</th>\n",
       "      <th>funded_amnt_inv</th>\n",
       "      <th>term</th>\n",
       "      <th>int_rate</th>\n",
       "      <th>grade</th>\n",
       "      <th>sub_grade</th>\n",
       "      <th>emp_length</th>\n",
       "      <th>home_ownership</th>\n",
       "      <th>annual_inc</th>\n",
       "      <th>...</th>\n",
       "      <th>total_acc</th>\n",
       "      <th>initial_list_status</th>\n",
       "      <th>total_rec_int</th>\n",
       "      <th>total_rec_late_fee</th>\n",
       "      <th>recoveries</th>\n",
       "      <th>collection_recovery_fee</th>\n",
       "      <th>collections_12_mths_ex_med</th>\n",
       "      <th>last_week_pay</th>\n",
       "      <th>acc_now_delinq</th>\n",
       "      <th>loan_status</th>\n",
       "    </tr>\n",
       "  </thead>\n",
       "  <tbody>\n",
       "    <tr>\n",
       "      <th>0</th>\n",
       "      <td>14350</td>\n",
       "      <td>14350</td>\n",
       "      <td>14350.0</td>\n",
       "      <td>36</td>\n",
       "      <td>19.19</td>\n",
       "      <td>E</td>\n",
       "      <td>E3</td>\n",
       "      <td>9.0</td>\n",
       "      <td>OWN</td>\n",
       "      <td>28700.0</td>\n",
       "      <td>...</td>\n",
       "      <td>28.0</td>\n",
       "      <td>f</td>\n",
       "      <td>1173.84</td>\n",
       "      <td>0.0</td>\n",
       "      <td>0.0</td>\n",
       "      <td>0.0</td>\n",
       "      <td>0.0</td>\n",
       "      <td>26</td>\n",
       "      <td>0.0</td>\n",
       "      <td>0</td>\n",
       "    </tr>\n",
       "    <tr>\n",
       "      <th>1</th>\n",
       "      <td>4800</td>\n",
       "      <td>4800</td>\n",
       "      <td>4800.0</td>\n",
       "      <td>36</td>\n",
       "      <td>10.99</td>\n",
       "      <td>B</td>\n",
       "      <td>B4</td>\n",
       "      <td>0.5</td>\n",
       "      <td>MORTGAGE</td>\n",
       "      <td>65000.0</td>\n",
       "      <td>...</td>\n",
       "      <td>13.0</td>\n",
       "      <td>w</td>\n",
       "      <td>83.95</td>\n",
       "      <td>0.0</td>\n",
       "      <td>0.0</td>\n",
       "      <td>0.0</td>\n",
       "      <td>0.0</td>\n",
       "      <td>9</td>\n",
       "      <td>0.0</td>\n",
       "      <td>0</td>\n",
       "    </tr>\n",
       "  </tbody>\n",
       "</table>\n",
       "<p>2 rows × 30 columns</p>\n",
       "</div>"
      ],
      "text/plain": [
       "   loan_amnt  funded_amnt  funded_amnt_inv  term  int_rate grade sub_grade  \\\n",
       "0      14350        14350          14350.0    36     19.19     E        E3   \n",
       "1       4800         4800           4800.0    36     10.99     B        B4   \n",
       "\n",
       "   emp_length home_ownership  annual_inc     ...      total_acc  \\\n",
       "0         9.0            OWN     28700.0     ...           28.0   \n",
       "1         0.5       MORTGAGE     65000.0     ...           13.0   \n",
       "\n",
       "  initial_list_status total_rec_int  total_rec_late_fee  recoveries  \\\n",
       "0                   f       1173.84                 0.0         0.0   \n",
       "1                   w         83.95                 0.0         0.0   \n",
       "\n",
       "   collection_recovery_fee  collections_12_mths_ex_med  last_week_pay  \\\n",
       "0                      0.0                         0.0             26   \n",
       "1                      0.0                         0.0              9   \n",
       "\n",
       "   acc_now_delinq  loan_status  \n",
       "0             0.0            0  \n",
       "1             0.0            0  \n",
       "\n",
       "[2 rows x 30 columns]"
      ]
     },
     "execution_count": 475,
     "metadata": {},
     "output_type": "execute_result"
    }
   ],
   "source": [
    "df.head(2)"
   ]
  },
  {
   "cell_type": "code",
   "execution_count": 476,
   "metadata": {
    "collapsed": false
   },
   "outputs": [
    {
     "data": {
      "text/html": [
       "<div>\n",
       "<table border=\"1\" class=\"dataframe\">\n",
       "  <thead>\n",
       "    <tr style=\"text-align: right;\">\n",
       "      <th></th>\n",
       "      <th>loan_amnt</th>\n",
       "      <th>funded_amnt</th>\n",
       "      <th>funded_amnt_inv</th>\n",
       "      <th>term</th>\n",
       "      <th>int_rate</th>\n",
       "      <th>grade</th>\n",
       "      <th>sub_grade</th>\n",
       "      <th>emp_length</th>\n",
       "      <th>home_ownership</th>\n",
       "      <th>annual_inc</th>\n",
       "      <th>...</th>\n",
       "      <th>total_acc</th>\n",
       "      <th>initial_list_status</th>\n",
       "      <th>total_rec_int</th>\n",
       "      <th>total_rec_late_fee</th>\n",
       "      <th>recoveries</th>\n",
       "      <th>collection_recovery_fee</th>\n",
       "      <th>collections_12_mths_ex_med</th>\n",
       "      <th>last_week_pay</th>\n",
       "      <th>acc_now_delinq</th>\n",
       "      <th>loan_status</th>\n",
       "    </tr>\n",
       "  </thead>\n",
       "  <tbody>\n",
       "    <tr>\n",
       "      <th>0</th>\n",
       "      <td>14350</td>\n",
       "      <td>14350</td>\n",
       "      <td>14350.0</td>\n",
       "      <td>36</td>\n",
       "      <td>19.19</td>\n",
       "      <td>E</td>\n",
       "      <td>E3</td>\n",
       "      <td>9.0</td>\n",
       "      <td>OWN</td>\n",
       "      <td>28700.0</td>\n",
       "      <td>...</td>\n",
       "      <td>28.0</td>\n",
       "      <td>f</td>\n",
       "      <td>1173.84</td>\n",
       "      <td>0.0</td>\n",
       "      <td>0.0</td>\n",
       "      <td>0.0</td>\n",
       "      <td>0.0</td>\n",
       "      <td>26</td>\n",
       "      <td>0.0</td>\n",
       "      <td>0</td>\n",
       "    </tr>\n",
       "    <tr>\n",
       "      <th>1</th>\n",
       "      <td>4800</td>\n",
       "      <td>4800</td>\n",
       "      <td>4800.0</td>\n",
       "      <td>36</td>\n",
       "      <td>10.99</td>\n",
       "      <td>B</td>\n",
       "      <td>B4</td>\n",
       "      <td>0.5</td>\n",
       "      <td>MORTGAGE</td>\n",
       "      <td>65000.0</td>\n",
       "      <td>...</td>\n",
       "      <td>13.0</td>\n",
       "      <td>w</td>\n",
       "      <td>83.95</td>\n",
       "      <td>0.0</td>\n",
       "      <td>0.0</td>\n",
       "      <td>0.0</td>\n",
       "      <td>0.0</td>\n",
       "      <td>9</td>\n",
       "      <td>0.0</td>\n",
       "      <td>0</td>\n",
       "    </tr>\n",
       "  </tbody>\n",
       "</table>\n",
       "<p>2 rows × 30 columns</p>\n",
       "</div>"
      ],
      "text/plain": [
       "   loan_amnt  funded_amnt  funded_amnt_inv  term  int_rate grade sub_grade  \\\n",
       "0      14350        14350          14350.0    36     19.19     E        E3   \n",
       "1       4800         4800           4800.0    36     10.99     B        B4   \n",
       "\n",
       "   emp_length home_ownership  annual_inc     ...      total_acc  \\\n",
       "0         9.0            OWN     28700.0     ...           28.0   \n",
       "1         0.5       MORTGAGE     65000.0     ...           13.0   \n",
       "\n",
       "  initial_list_status total_rec_int  total_rec_late_fee  recoveries  \\\n",
       "0                   f       1173.84                 0.0         0.0   \n",
       "1                   w         83.95                 0.0         0.0   \n",
       "\n",
       "   collection_recovery_fee  collections_12_mths_ex_med  last_week_pay  \\\n",
       "0                      0.0                         0.0             26   \n",
       "1                      0.0                         0.0              9   \n",
       "\n",
       "   acc_now_delinq  loan_status  \n",
       "0             0.0            0  \n",
       "1             0.0            0  \n",
       "\n",
       "[2 rows x 30 columns]"
      ]
     },
     "execution_count": 476,
     "metadata": {},
     "output_type": "execute_result"
    }
   ],
   "source": [
    "df.head(2)"
   ]
  },
  {
   "cell_type": "code",
   "execution_count": 477,
   "metadata": {
    "collapsed": true
   },
   "outputs": [],
   "source": [
    "df1=df.copy()\n",
    "test1=test.copy()"
   ]
  },
  {
   "cell_type": "code",
   "execution_count": 478,
   "metadata": {
    "collapsed": false
   },
   "outputs": [],
   "source": [
    "# le = preprocessing.LabelBinarizer()\n",
    "le = preprocessing.LabelEncoder()"
   ]
  },
  {
   "cell_type": "code",
   "execution_count": 479,
   "metadata": {
    "collapsed": false
   },
   "outputs": [],
   "source": [
    "#Label Encoding\n",
    "for cols in df1.select_dtypes(include=[\"object\"]).columns:\n",
    "    df1[cols] = pd.Series(le.fit_transform(df1[cols].values))\n",
    "    test1[cols] = pd.Series(le.transform(test1[cols].values))"
   ]
  },
  {
   "cell_type": "code",
   "execution_count": 480,
   "metadata": {
    "collapsed": false
   },
   "outputs": [
    {
     "data": {
      "text/html": [
       "<div>\n",
       "<table border=\"1\" class=\"dataframe\">\n",
       "  <thead>\n",
       "    <tr style=\"text-align: right;\">\n",
       "      <th></th>\n",
       "      <th>loan_amnt</th>\n",
       "      <th>funded_amnt</th>\n",
       "      <th>funded_amnt_inv</th>\n",
       "      <th>term</th>\n",
       "      <th>int_rate</th>\n",
       "      <th>grade</th>\n",
       "      <th>sub_grade</th>\n",
       "      <th>emp_length</th>\n",
       "      <th>home_ownership</th>\n",
       "      <th>annual_inc</th>\n",
       "      <th>...</th>\n",
       "      <th>revol_util</th>\n",
       "      <th>total_acc</th>\n",
       "      <th>initial_list_status</th>\n",
       "      <th>total_rec_int</th>\n",
       "      <th>total_rec_late_fee</th>\n",
       "      <th>recoveries</th>\n",
       "      <th>collection_recovery_fee</th>\n",
       "      <th>collections_12_mths_ex_med</th>\n",
       "      <th>last_week_pay</th>\n",
       "      <th>acc_now_delinq</th>\n",
       "    </tr>\n",
       "  </thead>\n",
       "  <tbody>\n",
       "    <tr>\n",
       "      <th>0</th>\n",
       "      <td>14000</td>\n",
       "      <td>14000</td>\n",
       "      <td>14000.0</td>\n",
       "      <td>60</td>\n",
       "      <td>16.24</td>\n",
       "      <td>2</td>\n",
       "      <td>14</td>\n",
       "      <td>4.0</td>\n",
       "      <td>5</td>\n",
       "      <td>73500.0</td>\n",
       "      <td>...</td>\n",
       "      <td>65.3</td>\n",
       "      <td>53.0</td>\n",
       "      <td>0</td>\n",
       "      <td>3915.61</td>\n",
       "      <td>0.0</td>\n",
       "      <td>0.0</td>\n",
       "      <td>0.0</td>\n",
       "      <td>0.0</td>\n",
       "      <td>104</td>\n",
       "      <td>0.0</td>\n",
       "    </tr>\n",
       "    <tr>\n",
       "      <th>1</th>\n",
       "      <td>16000</td>\n",
       "      <td>16000</td>\n",
       "      <td>16000.0</td>\n",
       "      <td>60</td>\n",
       "      <td>9.49</td>\n",
       "      <td>1</td>\n",
       "      <td>6</td>\n",
       "      <td>5.0</td>\n",
       "      <td>1</td>\n",
       "      <td>105000.0</td>\n",
       "      <td>...</td>\n",
       "      <td>19.4</td>\n",
       "      <td>63.0</td>\n",
       "      <td>1</td>\n",
       "      <td>1495.06</td>\n",
       "      <td>0.0</td>\n",
       "      <td>0.0</td>\n",
       "      <td>0.0</td>\n",
       "      <td>0.0</td>\n",
       "      <td>57</td>\n",
       "      <td>0.0</td>\n",
       "    </tr>\n",
       "  </tbody>\n",
       "</table>\n",
       "<p>2 rows × 29 columns</p>\n",
       "</div>"
      ],
      "text/plain": [
       "   loan_amnt  funded_amnt  funded_amnt_inv  term  int_rate  grade  sub_grade  \\\n",
       "0      14000        14000          14000.0    60     16.24      2         14   \n",
       "1      16000        16000          16000.0    60      9.49      1          6   \n",
       "\n",
       "   emp_length  home_ownership  annual_inc       ...        revol_util  \\\n",
       "0         4.0               5     73500.0       ...              65.3   \n",
       "1         5.0               1    105000.0       ...              19.4   \n",
       "\n",
       "   total_acc  initial_list_status  total_rec_int  total_rec_late_fee  \\\n",
       "0       53.0                    0        3915.61                 0.0   \n",
       "1       63.0                    1        1495.06                 0.0   \n",
       "\n",
       "   recoveries  collection_recovery_fee  collections_12_mths_ex_med  \\\n",
       "0         0.0                      0.0                         0.0   \n",
       "1         0.0                      0.0                         0.0   \n",
       "\n",
       "   last_week_pay  acc_now_delinq  \n",
       "0            104             0.0  \n",
       "1             57             0.0  \n",
       "\n",
       "[2 rows x 29 columns]"
      ]
     },
     "execution_count": 480,
     "metadata": {},
     "output_type": "execute_result"
    }
   ],
   "source": [
    "test1.head(2)"
   ]
  },
  {
   "cell_type": "code",
   "execution_count": 481,
   "metadata": {
    "collapsed": false
   },
   "outputs": [
    {
     "data": {
      "text/plain": [
       "Index([u'loan_amnt', u'funded_amnt', u'funded_amnt_inv', u'term', u'int_rate',\n",
       "       u'grade', u'sub_grade', u'emp_length', u'home_ownership', u'annual_inc',\n",
       "       u'verification_status', u'purpose', u'addr_state', u'dti',\n",
       "       u'delinq_2yrs', u'inq_last_6mths', u'open_acc', u'pub_rec',\n",
       "       u'revol_bal', u'revol_util', u'total_acc', u'initial_list_status',\n",
       "       u'total_rec_int', u'total_rec_late_fee', u'recoveries',\n",
       "       u'collection_recovery_fee', u'collections_12_mths_ex_med',\n",
       "       u'last_week_pay', u'acc_now_delinq', u'loan_status'],\n",
       "      dtype='object')"
      ]
     },
     "execution_count": 481,
     "metadata": {},
     "output_type": "execute_result"
    }
   ],
   "source": [
    "df1.columns"
   ]
  },
  {
   "cell_type": "code",
   "execution_count": 482,
   "metadata": {
    "collapsed": false
   },
   "outputs": [],
   "source": [
    "y_train = df1.loan_status.values\n",
    "np.save('y_train', y_train)\n",
    "df1 = df1.drop('loan_status', axis=1)"
   ]
  },
  {
   "cell_type": "code",
   "execution_count": 483,
   "metadata": {
    "collapsed": false
   },
   "outputs": [
    {
     "name": "stdout",
     "output_type": "stream",
     "text": [
      "Training data shape:  (532428L, 29L)\n",
      "Testing data shape:  (354951L, 29L)\n"
     ]
    }
   ],
   "source": [
    "x_train = df1.values\n",
    "print \"Training data shape: \", x_train.shape\n",
    "np.save('x_train', x_train)\n",
    "\n",
    "test_data = test1.values\n",
    "print \"Testing data shape: \", test_data.shape\n",
    "np.save('test',test_data)"
   ]
  },
  {
   "cell_type": "code",
   "execution_count": 484,
   "metadata": {
    "collapsed": false
   },
   "outputs": [
    {
     "data": {
      "text/plain": [
       "loan_amnt                       0\n",
       "funded_amnt                     0\n",
       "funded_amnt_inv                 0\n",
       "term                            0\n",
       "int_rate                        0\n",
       "grade                           0\n",
       "sub_grade                       0\n",
       "emp_length                      0\n",
       "home_ownership                  0\n",
       "annual_inc                      1\n",
       "verification_status             0\n",
       "purpose                         0\n",
       "addr_state                      0\n",
       "dti                             0\n",
       "delinq_2yrs                    13\n",
       "inq_last_6mths                 13\n",
       "open_acc                       13\n",
       "pub_rec                        13\n",
       "revol_bal                       0\n",
       "revol_util                    215\n",
       "total_acc                      13\n",
       "initial_list_status             0\n",
       "total_rec_int                   0\n",
       "total_rec_late_fee              0\n",
       "recoveries                      0\n",
       "collection_recovery_fee         0\n",
       "collections_12_mths_ex_med     50\n",
       "last_week_pay                   0\n",
       "acc_now_delinq                 13\n",
       "dtype: int64"
      ]
     },
     "execution_count": 484,
     "metadata": {},
     "output_type": "execute_result"
    }
   ],
   "source": [
    "test1.isnull().sum()"
   ]
  }
 ],
 "metadata": {
  "anaconda-cloud": {},
  "kernelspec": {
   "display_name": "Python [conda root]",
   "language": "python",
   "name": "conda-root-py"
  },
  "language_info": {
   "codemirror_mode": {
    "name": "ipython",
    "version": 2
   },
   "file_extension": ".py",
   "mimetype": "text/x-python",
   "name": "python",
   "nbconvert_exporter": "python",
   "pygments_lexer": "ipython2",
   "version": "2.7.12"
  }
 },
 "nbformat": 4,
 "nbformat_minor": 1
}
